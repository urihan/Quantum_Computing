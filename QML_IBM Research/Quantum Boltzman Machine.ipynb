{
 "cells": [
  {
   "cell_type": "markdown",
   "id": "a6eb25fa",
   "metadata": {},
   "source": [
    "## Quantum Boltzmann Machine \n",
    "\n",
    "Goal: to prepare the Gibbs state with variational quantum imaginary time evolution technique. "
   ]
  },
  {
   "cell_type": "code",
   "execution_count": null,
   "id": "e7faac7b",
   "metadata": {},
   "outputs": [],
   "source": []
  }
 ],
 "metadata": {
  "kernelspec": {
   "display_name": "Python 3 (ipykernel)",
   "language": "python",
   "name": "python3"
  },
  "language_info": {
   "codemirror_mode": {
    "name": "ipython",
    "version": 3
   },
   "file_extension": ".py",
   "mimetype": "text/x-python",
   "name": "python",
   "nbconvert_exporter": "python",
   "pygments_lexer": "ipython3",
   "version": "3.9.13"
  }
 },
 "nbformat": 4,
 "nbformat_minor": 5
}
